{
 "cells": [
  {
   "cell_type": "code",
   "execution_count": 1,
   "id": "b2bd82d7",
   "metadata": {},
   "outputs": [
    {
     "name": "stdout",
     "output_type": "stream",
     "text": [
      "Python 3.9.12\r\n"
     ]
    }
   ],
   "source": [
    "!python -V"
   ]
  },
  {
   "cell_type": "code",
   "execution_count": 2,
   "id": "34f9e85c",
   "metadata": {},
   "outputs": [
    {
     "name": "stdout",
     "output_type": "stream",
     "text": [
      "Requirement already satisfied: pandas in /home/codespace/anaconda3/lib/python3.9/site-packages (1.4.2)\n",
      "Requirement already satisfied: pyarrow in /home/codespace/anaconda3/lib/python3.9/site-packages (15.0.2)\n",
      "Requirement already satisfied: python-dateutil>=2.8.1 in /home/codespace/anaconda3/lib/python3.9/site-packages (from pandas) (2.8.2)\n",
      "Requirement already satisfied: pytz>=2020.1 in /home/codespace/anaconda3/lib/python3.9/site-packages (from pandas) (2021.3)\n",
      "Requirement already satisfied: numpy>=1.18.5 in /home/codespace/anaconda3/lib/python3.9/site-packages (from pandas) (1.21.5)\n",
      "Requirement already satisfied: six>=1.5 in /home/codespace/anaconda3/lib/python3.9/site-packages (from python-dateutil>=2.8.1->pandas) (1.16.0)\n",
      "Note: you may need to restart the kernel to use updated packages.\n"
     ]
    }
   ],
   "source": [
    "pip install pandas pyarrow"
   ]
  },
  {
   "cell_type": "code",
   "execution_count": 3,
   "id": "41062d8a",
   "metadata": {},
   "outputs": [],
   "source": [
    "import pandas as pd"
   ]
  },
  {
   "cell_type": "code",
   "execution_count": 4,
   "id": "c984c564",
   "metadata": {},
   "outputs": [],
   "source": [
    "import pickle"
   ]
  },
  {
   "cell_type": "code",
   "execution_count": 5,
   "id": "4add538c",
   "metadata": {},
   "outputs": [],
   "source": [
    "import seaborn as sns\n",
    "import matplotlib.pyplot as plt"
   ]
  },
  {
   "cell_type": "code",
   "execution_count": 6,
   "id": "8b135c2b",
   "metadata": {},
   "outputs": [],
   "source": [
    "from sklearn.feature_extraction import DictVectorizer\n",
    "from sklearn.linear_model import LinearRegression\n",
    "from sklearn.linear_model import Lasso\n",
    "from sklearn.linear_model import Ridge\n",
    "\n",
    "from sklearn.metrics import mean_squared_error"
   ]
  },
  {
   "cell_type": "code",
   "execution_count": 7,
   "id": "1464985f",
   "metadata": {},
   "outputs": [
    {
     "data": {
      "text/plain": [
       "<Experiment: artifact_location='/workspaces/mlops-zoomcamp/02-experiment-tracking/mlruns/1', creation_time=1716856530004, experiment_id='1', last_update_time=1716856530004, lifecycle_stage='active', name='nyc-taxi-experiment', tags={}>"
      ]
     },
     "execution_count": 7,
     "metadata": {},
     "output_type": "execute_result"
    }
   ],
   "source": [
    "\n",
    "import mlflow\n",
    "\n",
    "\n",
    "mlflow.set_tracking_uri(\"sqlite:///mlflow.db\")\n",
    "mlflow.set_experiment(\"nyc-taxi-experiment\")"
   ]
  },
  {
   "cell_type": "code",
   "execution_count": 8,
   "id": "f9e6479e",
   "metadata": {},
   "outputs": [],
   "source": [
    "def read_dataframe(filename):\n",
    "    df = pd.read_parquet(filename)\n",
    "\n",
    "    df.lpep_dropoff_datetime = pd.to_datetime(df.lpep_dropoff_datetime)\n",
    "    df.lpep_pickup_datetime = pd.to_datetime(df.lpep_pickup_datetime)\n",
    "\n",
    "    df['duration'] = df.lpep_dropoff_datetime - df.lpep_pickup_datetime\n",
    "    df.duration = df.duration.apply(lambda td: td.total_seconds() / 60)\n",
    "\n",
    "    df = df[(df.duration >= 1) & (df.duration <= 60)]\n",
    "\n",
    "    categorical = ['PULocationID', 'DOLocationID']\n",
    "    df[categorical] = df[categorical].astype(str)\n",
    "    \n",
    "    return df"
   ]
  },
  {
   "cell_type": "code",
   "execution_count": 9,
   "id": "8029eba0",
   "metadata": {},
   "outputs": [],
   "source": [
    "df_train = pd.read_parquet('./data/green_tripdata_2021-01.parquet')\n",
    "df_val = pd.read_parquet('./data/green_tripdata_2021-02.parquet')"
   ]
  },
  {
   "cell_type": "code",
   "execution_count": 10,
   "id": "f6f2f0eb",
   "metadata": {},
   "outputs": [
    {
     "data": {
      "text/plain": [
       "VendorID                                   2\n",
       "lpep_pickup_datetime     2021-01-01 00:45:57\n",
       "lpep_dropoff_datetime    2021-01-01 00:51:55\n",
       "store_and_fwd_flag                         N\n",
       "RatecodeID                               2.0\n",
       "PULocationID                             265\n",
       "DOLocationID                             265\n",
       "passenger_count                          3.0\n",
       "trip_distance                           2.53\n",
       "fare_amount                             10.0\n",
       "extra                                    0.5\n",
       "mta_tax                                  0.5\n",
       "tip_amount                              2.81\n",
       "tolls_amount                             0.0\n",
       "ehail_fee                               None\n",
       "improvement_surcharge                    0.3\n",
       "total_amount                           16.86\n",
       "payment_type                             3.0\n",
       "trip_type                                1.0\n",
       "congestion_surcharge                    2.75\n",
       "dtype: object"
      ]
     },
     "execution_count": 10,
     "metadata": {},
     "output_type": "execute_result"
    }
   ],
   "source": [
    "len(df_train), len(df_val)\n",
    "df_train.head().max()"
   ]
  },
  {
   "cell_type": "code",
   "execution_count": 11,
   "id": "951d51ef",
   "metadata": {},
   "outputs": [],
   "source": [
    "# Convert the PULocationID and DOLocationID columns to string type\n",
    "df_train['PULocationID'] = df_train['PULocationID'].astype(str)\n",
    "df_train['DOLocationID'] = df_train['DOLocationID'].astype(str)\n",
    "\n",
    "df_val['PULocationID'] = df_val['PULocationID'].astype(str)\n",
    "df_val['DOLocationID'] = df_val['DOLocationID'].astype(str)\n",
    "\n",
    "# Create the PU_DO column by concatenating the PULocationID and DOLocationID columns with an underscore\n",
    "df_train['PU_DO'] = df_train['PULocationID'] + '_' + df_train['DOLocationID']\n",
    "df_val['PU_DO'] = df_val['PULocationID'] + '_' + df_val['DOLocationID']\n"
   ]
  },
  {
   "cell_type": "code",
   "execution_count": 12,
   "id": "c5cbfc25",
   "metadata": {},
   "outputs": [],
   "source": [
    "categorical = ['PU_DO'] #'PULocationID', 'DOLocationID']\n",
    "numerical = ['trip_distance']\n",
    "\n",
    "dv = DictVectorizer()\n",
    "\n",
    "train_dicts = df_train[categorical + numerical].to_dict(orient='records')\n",
    "X_train = dv.fit_transform(train_dicts)\n",
    "\n",
    "val_dicts = df_val[categorical + numerical].to_dict(orient='records')\n",
    "X_val = dv.transform(val_dicts)"
   ]
  },
  {
   "cell_type": "code",
   "execution_count": 13,
   "id": "1e9fb68b",
   "metadata": {},
   "outputs": [
    {
     "name": "stdout",
     "output_type": "stream",
     "text": [
      "<class 'pandas.core.frame.DataFrame'>\n",
      "RangeIndex: 76518 entries, 0 to 76517\n",
      "Data columns (total 21 columns):\n",
      " #   Column                 Non-Null Count  Dtype         \n",
      "---  ------                 --------------  -----         \n",
      " 0   VendorID               76518 non-null  int64         \n",
      " 1   lpep_pickup_datetime   76518 non-null  datetime64[ns]\n",
      " 2   lpep_dropoff_datetime  76518 non-null  datetime64[ns]\n",
      " 3   store_and_fwd_flag     40471 non-null  object        \n",
      " 4   RatecodeID             40471 non-null  float64       \n",
      " 5   PULocationID           76518 non-null  object        \n",
      " 6   DOLocationID           76518 non-null  object        \n",
      " 7   passenger_count        40471 non-null  float64       \n",
      " 8   trip_distance          76518 non-null  float64       \n",
      " 9   fare_amount            76518 non-null  float64       \n",
      " 10  extra                  76518 non-null  float64       \n",
      " 11  mta_tax                76518 non-null  float64       \n",
      " 12  tip_amount             76518 non-null  float64       \n",
      " 13  tolls_amount           76518 non-null  float64       \n",
      " 14  ehail_fee              0 non-null      object        \n",
      " 15  improvement_surcharge  76518 non-null  float64       \n",
      " 16  total_amount           76518 non-null  float64       \n",
      " 17  payment_type           40471 non-null  float64       \n",
      " 18  trip_type              40471 non-null  float64       \n",
      " 19  congestion_surcharge   40471 non-null  float64       \n",
      " 20  PU_DO                  76518 non-null  object        \n",
      "dtypes: datetime64[ns](2), float64(13), int64(1), object(5)\n",
      "memory usage: 12.3+ MB\n"
     ]
    }
   ],
   "source": [
    "target = 'trip_distance'\n",
    "df_train.info()\n"
   ]
  },
  {
   "cell_type": "code",
   "execution_count": 14,
   "id": "227c3874",
   "metadata": {},
   "outputs": [],
   "source": [
    "y_train = df_train[target].values\n",
    "y_val = df_val[target].values"
   ]
  },
  {
   "cell_type": "code",
   "execution_count": 15,
   "id": "429e2394",
   "metadata": {},
   "outputs": [
    {
     "data": {
      "text/plain": [
       "3.6194862702852306e-08"
      ]
     },
     "execution_count": 15,
     "metadata": {},
     "output_type": "execute_result"
    }
   ],
   "source": [
    "lr = LinearRegression()\n",
    "lr.fit(X_train, y_train)\n",
    "\n",
    "y_pred = lr.predict(X_val)\n",
    "\n",
    "mean_squared_error(y_val, y_pred, squared=False)"
   ]
  },
  {
   "cell_type": "code",
   "execution_count": 16,
   "id": "22bf6f8b",
   "metadata": {},
   "outputs": [],
   "source": [
    "with open('models/lin_reg.bin', 'wb') as f_out:\n",
    "    pickle.dump((dv, lr), f_out)"
   ]
  },
  {
   "cell_type": "code",
   "execution_count": 17,
   "id": "a4999b94",
   "metadata": {},
   "outputs": [],
   "source": [
    "with mlflow.start_run():\n",
    "\n",
    "    mlflow.set_tag(\"developer\", \"cristian\")\n",
    "\n",
    "    mlflow.log_param(\"train-data-path\", \"./data/green_tripdata_2021-01.csv\")\n",
    "    mlflow.log_param(\"valid-data-path\", \"./data/green_tripdata_2021-02.csv\")\n",
    "\n",
    "    alpha = 0.1\n",
    "    mlflow.log_param(\"alpha\", alpha)\n",
    "    lr = Lasso(alpha)\n",
    "    lr.fit(X_train, y_train)\n",
    "\n",
    "    y_pred = lr.predict(X_val)\n",
    "    rmse = mean_squared_error(y_val, y_pred, squared=False)\n",
    "    mlflow.log_metric(\"rmse\", rmse)\n",
    "\n",
    "    mlflow.log_artifact(local_path=\"models/lin_reg.bin\", artifact_path=\"models_pickle\")"
   ]
  },
  {
   "cell_type": "code",
   "execution_count": null,
   "id": "47b0eb9b",
   "metadata": {},
   "outputs": [],
   "source": []
  },
  {
   "cell_type": "code",
   "execution_count": 18,
   "id": "5f56e97b",
   "metadata": {},
   "outputs": [],
   "source": [
    "import xgboost as xgb"
   ]
  },
  {
   "cell_type": "code",
   "execution_count": 19,
   "id": "907dc6a2",
   "metadata": {},
   "outputs": [],
   "source": [
    "from hyperopt import fmin, tpe, hp, STATUS_OK, Trials\n",
    "from hyperopt.pyll import scope"
   ]
  },
  {
   "cell_type": "code",
   "execution_count": 20,
   "id": "091ab328",
   "metadata": {},
   "outputs": [],
   "source": [
    "train = xgb.DMatrix(X_train, label=y_train)\n",
    "valid = xgb.DMatrix(X_val, label=y_val)"
   ]
  },
  {
   "cell_type": "code",
   "execution_count": 21,
   "id": "c2d84b26",
   "metadata": {},
   "outputs": [],
   "source": [
    "def objective(params):\n",
    "    with mlflow.start_run():\n",
    "        mlflow.set_tag(\"model\", \"xgboost\")\n",
    "        mlflow.log_params(params)\n",
    "        booster = xgb.train(\n",
    "            params=params,\n",
    "            dtrain=train,\n",
    "            num_boost_round=1000,\n",
    "            evals=[(valid, 'validation')],\n",
    "            early_stopping_rounds=50\n",
    "        )\n",
    "        y_pred = booster.predict(valid)\n",
    "        rmse = mean_squared_error(y_val, y_pred, squared=False)\n",
    "        mlflow.log_metric(\"rmse\", rmse)\n",
    "\n",
    "    return {'loss': rmse, 'status': STATUS_OK}"
   ]
  },
  {
   "cell_type": "code",
   "execution_count": 22,
   "id": "6b1f77f5",
   "metadata": {},
   "outputs": [
    {
     "name": "stdout",
     "output_type": "stream",
     "text": [
      "[0]\tvalidation-rmse:781.67844                                                                                                                     \n",
      "  0%|                                                                                                       | 0/5 [00:00<?, ?trial/s, best loss=?]"
     ]
    },
    {
     "name": "stderr",
     "output_type": "stream",
     "text": [
      "/home/codespace/anaconda3/lib/python3.9/site-packages/xgboost/core.py:160: UserWarning: [01:37:51] WARNING: /workspace/src/objective/regression_obj.cu:209: reg:linear is now deprecated in favor of reg:squarederror.\n",
      "  warnings.warn(smsg, UserWarning)\n",
      "\n"
     ]
    },
    {
     "name": "stdout",
     "output_type": "stream",
     "text": [
      "[1]\tvalidation-rmse:789.41053                                                                                                                     \n",
      "[2]\tvalidation-rmse:807.64969                                                                                                                     \n",
      "[3]\tvalidation-rmse:824.84574                                                                                                                     \n",
      "[4]\tvalidation-rmse:835.33790                                                                                                                     \n",
      "[5]\tvalidation-rmse:833.52809                                                                                                                     \n",
      "[6]\tvalidation-rmse:842.91633                                                                                                                     \n",
      "[7]\tvalidation-rmse:841.95613                                                                                                                     \n",
      "[8]\tvalidation-rmse:848.41656                                                                                                                     \n",
      "[9]\tvalidation-rmse:845.42996                                                                                                                     \n",
      "[10]\tvalidation-rmse:850.60684                                                                                                                    \n",
      "[11]\tvalidation-rmse:847.69128                                                                                                                    \n",
      "[12]\tvalidation-rmse:846.35879                                                                                                                    \n",
      "[13]\tvalidation-rmse:850.48987                                                                                                                    \n",
      "[14]\tvalidation-rmse:846.57528                                                                                                                    \n",
      "[15]\tvalidation-rmse:850.72488                                                                                                                    \n",
      "[16]\tvalidation-rmse:847.57194                                                                                                                    \n",
      "[17]\tvalidation-rmse:843.98802                                                                                                                    \n",
      "[18]\tvalidation-rmse:848.25884                                                                                                                    \n",
      "[19]\tvalidation-rmse:844.76983                                                                                                                    \n",
      "[20]\tvalidation-rmse:848.90771                                                                                                                    \n",
      "[21]\tvalidation-rmse:844.61664                                                                                                                    \n",
      "[22]\tvalidation-rmse:848.73260                                                                                                                    \n",
      "[23]\tvalidation-rmse:845.75382                                                                                                                    \n",
      "[24]\tvalidation-rmse:842.98817                                                                                                                    \n",
      "[25]\tvalidation-rmse:847.05108                                                                                                                    \n",
      "[26]\tvalidation-rmse:844.32485                                                                                                                    \n",
      "[27]\tvalidation-rmse:848.03413                                                                                                                    \n",
      "[28]\tvalidation-rmse:843.77134                                                                                                                    \n",
      "[29]\tvalidation-rmse:847.47514                                                                                                                    \n",
      "[30]\tvalidation-rmse:844.06552                                                                                                                    \n",
      "[31]\tvalidation-rmse:841.38584                                                                                                                    \n",
      "[32]\tvalidation-rmse:845.29826                                                                                                                    \n",
      "[33]\tvalidation-rmse:842.58711                                                                                                                    \n",
      "[34]\tvalidation-rmse:846.16354                                                                                                                    \n",
      "[35]\tvalidation-rmse:842.90818                                                                                                                    \n",
      "[36]\tvalidation-rmse:840.70257                                                                                                                    \n",
      "[37]\tvalidation-rmse:844.32556                                                                                                                    \n",
      "[38]\tvalidation-rmse:841.65574                                                                                                                    \n",
      "[39]\tvalidation-rmse:845.04902                                                                                                                    \n",
      "[40]\tvalidation-rmse:841.89834                                                                                                                    \n",
      "[41]\tvalidation-rmse:839.38253                                                                                                                    \n",
      "[42]\tvalidation-rmse:843.09398                                                                                                                    \n",
      "[43]\tvalidation-rmse:839.79046                                                                                                                    \n",
      "[44]\tvalidation-rmse:843.26459                                                                                                                    \n",
      "[45]\tvalidation-rmse:839.36478                                                                                                                    \n",
      "[46]\tvalidation-rmse:842.85504                                                                                                                    \n",
      "[47]\tvalidation-rmse:840.27952                                                                                                                    \n",
      "[48]\tvalidation-rmse:837.95648                                                                                                                    \n",
      "[49]\tvalidation-rmse:841.42719                                                                                                                    \n",
      "[50]\tvalidation-rmse:839.04384                                                                                                                    \n",
      "[0]\tvalidation-rmse:792.78979                                                                                                                     \n",
      " 20%|███████████████▌                                                              | 1/5 [00:15<01:01, 15.32s/trial, best loss: 839.0438434485823]"
     ]
    },
    {
     "name": "stderr",
     "output_type": "stream",
     "text": [
      "/home/codespace/anaconda3/lib/python3.9/site-packages/xgboost/core.py:160: UserWarning: [01:38:06] WARNING: /workspace/src/objective/regression_obj.cu:209: reg:linear is now deprecated in favor of reg:squarederror.\n",
      "  warnings.warn(smsg, UserWarning)\n",
      "\n"
     ]
    },
    {
     "name": "stdout",
     "output_type": "stream",
     "text": [
      "[1]\tvalidation-rmse:779.91048                                                                                                                     \n",
      "[2]\tvalidation-rmse:775.27329                                                                                                                     \n",
      "[3]\tvalidation-rmse:776.03769                                                                                                                     \n",
      "[4]\tvalidation-rmse:780.12502                                                                                                                     \n",
      "[5]\tvalidation-rmse:786.07911                                                                                                                     \n",
      "[6]\tvalidation-rmse:792.91774                                                                                                                     \n",
      "[7]\tvalidation-rmse:800.00200                                                                                                                     \n",
      "[8]\tvalidation-rmse:806.93353                                                                                                                     \n",
      "[9]\tvalidation-rmse:805.68565                                                                                                                     \n",
      "[10]\tvalidation-rmse:812.05037                                                                                                                    \n",
      "[11]\tvalidation-rmse:811.83782                                                                                                                    \n",
      "[12]\tvalidation-rmse:817.45752                                                                                                                    \n",
      "[13]\tvalidation-rmse:817.07459                                                                                                                    \n",
      "[14]\tvalidation-rmse:821.97783                                                                                                                    \n",
      "[15]\tvalidation-rmse:822.11230                                                                                                                    \n",
      "[16]\tvalidation-rmse:826.39961                                                                                                                    \n",
      "[17]\tvalidation-rmse:826.20405                                                                                                                    \n",
      "[18]\tvalidation-rmse:829.96002                                                                                                                    \n",
      "[19]\tvalidation-rmse:829.40996                                                                                                                    \n",
      "[20]\tvalidation-rmse:832.79611                                                                                                                    \n",
      "[21]\tvalidation-rmse:832.16049                                                                                                                    \n",
      "[22]\tvalidation-rmse:835.24294                                                                                                                    \n",
      "[23]\tvalidation-rmse:834.48684                                                                                                                    \n",
      "[24]\tvalidation-rmse:837.29233                                                                                                                    \n",
      "[25]\tvalidation-rmse:836.25475                                                                                                                    \n",
      "[26]\tvalidation-rmse:838.81241                                                                                                                    \n",
      "[27]\tvalidation-rmse:838.25693                                                                                                                    \n",
      "[28]\tvalidation-rmse:836.86976                                                                                                                    \n",
      "[29]\tvalidation-rmse:839.12799                                                                                                                    \n",
      "[30]\tvalidation-rmse:838.06465                                                                                                                    \n",
      "[31]\tvalidation-rmse:840.18321                                                                                                                    \n",
      "[32]\tvalidation-rmse:839.37449                                                                                                                    \n",
      "[33]\tvalidation-rmse:841.33299                                                                                                                    \n",
      "[34]\tvalidation-rmse:840.59942                                                                                                                    \n",
      "[35]\tvalidation-rmse:839.47502                                                                                                                    \n",
      "[36]\tvalidation-rmse:841.22687                                                                                                                    \n",
      "[37]\tvalidation-rmse:840.52255                                                                                                                    \n",
      "[38]\tvalidation-rmse:842.16252                                                                                                                    \n",
      "[39]\tvalidation-rmse:841.67979                                                                                                                    \n",
      "[40]\tvalidation-rmse:839.72634                                                                                                                    \n",
      "[41]\tvalidation-rmse:841.31258                                                                                                                    \n",
      "[42]\tvalidation-rmse:840.28890                                                                                                                    \n",
      "[43]\tvalidation-rmse:841.86811                                                                                                                    \n",
      "[44]\tvalidation-rmse:840.76090                                                                                                                    \n",
      "[45]\tvalidation-rmse:842.31325                                                                                                                    \n",
      "[46]\tvalidation-rmse:841.74317                                                                                                                    \n",
      "[47]\tvalidation-rmse:840.74797                                                                                                                    \n",
      "[48]\tvalidation-rmse:842.16008                                                                                                                    \n",
      "[49]\tvalidation-rmse:841.38775                                                                                                                    \n",
      "[50]\tvalidation-rmse:842.77045                                                                                                                    \n",
      "[51]\tvalidation-rmse:841.81331                                                                                                                    \n",
      "[52]\tvalidation-rmse:840.30536                                                                                                                    \n",
      "[0]\tvalidation-rmse:781.22978                                                                                                                     \n",
      "[1]\tvalidation-rmse:794.21558                                                                                                                     \n",
      " 40%|███████████████████████████████▏                                              | 2/5 [00:31<00:47, 15.85s/trial, best loss: 839.0438434485823]"
     ]
    },
    {
     "name": "stderr",
     "output_type": "stream",
     "text": [
      "/home/codespace/anaconda3/lib/python3.9/site-packages/xgboost/core.py:160: UserWarning: [01:38:22] WARNING: /workspace/src/objective/regression_obj.cu:209: reg:linear is now deprecated in favor of reg:squarederror.\n",
      "  warnings.warn(smsg, UserWarning)\n",
      "\n"
     ]
    },
    {
     "name": "stdout",
     "output_type": "stream",
     "text": [
      "[2]\tvalidation-rmse:815.27214                                                                                                                     \n",
      "[3]\tvalidation-rmse:832.82244                                                                                                                     \n",
      "[4]\tvalidation-rmse:845.25141                                                                                                                     \n",
      "[5]\tvalidation-rmse:843.14168                                                                                                                     \n",
      "[6]\tvalidation-rmse:851.49638                                                                                                                     \n",
      "[7]\tvalidation-rmse:849.58368                                                                                                                     \n",
      "[8]\tvalidation-rmse:855.23250                                                                                                                     \n",
      "[9]\tvalidation-rmse:852.74892                                                                                                                     \n",
      "[10]\tvalidation-rmse:857.04863                                                                                                                    \n",
      "[11]\tvalidation-rmse:853.85144                                                                                                                    \n",
      "[12]\tvalidation-rmse:857.57357                                                                                                                    \n",
      "[13]\tvalidation-rmse:854.12425                                                                                                                    \n",
      "[14]\tvalidation-rmse:857.59516                                                                                                                    \n",
      "[15]\tvalidation-rmse:854.08076                                                                                                                    \n",
      "[16]\tvalidation-rmse:857.42855                                                                                                                    \n",
      "[17]\tvalidation-rmse:853.92133                                                                                                                    \n",
      "[18]\tvalidation-rmse:857.19501                                                                                                                    \n",
      "[19]\tvalidation-rmse:853.65189                                                                                                                    \n",
      "[20]\tvalidation-rmse:856.87343                                                                                                                    \n",
      "[21]\tvalidation-rmse:853.39398                                                                                                                    \n",
      "[22]\tvalidation-rmse:856.58285                                                                                                                    \n",
      "[23]\tvalidation-rmse:853.18677                                                                                                                    \n",
      "[24]\tvalidation-rmse:856.32184                                                                                                                    \n",
      "[25]\tvalidation-rmse:852.98391                                                                                                                    \n",
      "[26]\tvalidation-rmse:856.06949                                                                                                                    \n",
      "[27]\tvalidation-rmse:852.78427                                                                                                                    \n",
      "[28]\tvalidation-rmse:855.82367                                                                                                                    \n",
      "[29]\tvalidation-rmse:852.47987                                                                                                                    \n",
      "[30]\tvalidation-rmse:850.02318                                                                                                                    \n",
      "[31]\tvalidation-rmse:853.62967                                                                                                                    \n",
      "[32]\tvalidation-rmse:851.22127                                                                                                                    \n",
      "[33]\tvalidation-rmse:854.42155                                                                                                                    \n",
      "[34]\tvalidation-rmse:851.60610                                                                                                                    \n",
      "[35]\tvalidation-rmse:854.60189                                                                                                                    \n",
      "[36]\tvalidation-rmse:851.53334                                                                                                                    \n",
      "[37]\tvalidation-rmse:848.42081                                                                                                                    \n",
      "[38]\tvalidation-rmse:852.17128                                                                                                                    \n",
      "[39]\tvalidation-rmse:850.10621                                                                                                                    \n",
      "[40]\tvalidation-rmse:853.27370                                                                                                                    \n",
      "[41]\tvalidation-rmse:850.69330                                                                                                                    \n",
      "[42]\tvalidation-rmse:853.58563                                                                                                                    \n",
      "[43]\tvalidation-rmse:850.69421                                                                                                                    \n",
      "[44]\tvalidation-rmse:848.25997                                                                                                                    \n",
      "[45]\tvalidation-rmse:851.63769                                                                                                                    \n",
      "[46]\tvalidation-rmse:849.53763                                                                                                                    \n",
      "[47]\tvalidation-rmse:852.47232                                                                                                                    \n",
      "[48]\tvalidation-rmse:849.97689                                                                                                                    \n",
      "[49]\tvalidation-rmse:852.69168                                                                                                                    \n",
      "[0]\tvalidation-rmse:787.17916                                                                                                                     \n",
      " 60%|██████████████████████████████████████████████▊                               | 3/5 [00:38<00:23, 11.90s/trial, best loss: 839.0438434485823]"
     ]
    },
    {
     "name": "stderr",
     "output_type": "stream",
     "text": [
      "/home/codespace/anaconda3/lib/python3.9/site-packages/xgboost/core.py:160: UserWarning: [01:38:30] WARNING: /workspace/src/objective/regression_obj.cu:209: reg:linear is now deprecated in favor of reg:squarederror.\n",
      "  warnings.warn(smsg, UserWarning)\n",
      "\n"
     ]
    },
    {
     "name": "stdout",
     "output_type": "stream",
     "text": [
      "[1]\tvalidation-rmse:775.33846                                                                                                                     \n",
      "[2]\tvalidation-rmse:774.85287                                                                                                                     \n",
      "[3]\tvalidation-rmse:780.15180                                                                                                                     \n",
      "[4]\tvalidation-rmse:788.51743                                                                                                                     \n",
      "[5]\tvalidation-rmse:797.98749                                                                                                                     \n",
      "[6]\tvalidation-rmse:801.12120                                                                                                                     \n",
      "[7]\tvalidation-rmse:809.63179                                                                                                                     \n",
      "[8]\tvalidation-rmse:815.17769                                                                                                                     \n",
      "[9]\tvalidation-rmse:822.15506                                                                                                                     \n",
      "[10]\tvalidation-rmse:827.12296                                                                                                                    \n",
      "[11]\tvalidation-rmse:832.71118                                                                                                                    \n",
      "[12]\tvalidation-rmse:838.29688                                                                                                                    \n",
      "[13]\tvalidation-rmse:841.47735                                                                                                                    \n",
      "[14]\tvalidation-rmse:845.82387                                                                                                                    \n",
      "[15]\tvalidation-rmse:846.94727                                                                                                                    \n",
      "[16]\tvalidation-rmse:850.66800                                                                                                                    \n",
      "[17]\tvalidation-rmse:852.14214                                                                                                                    \n",
      "[18]\tvalidation-rmse:855.10743                                                                                                                    \n",
      "[19]\tvalidation-rmse:855.49014                                                                                                                    \n",
      "[20]\tvalidation-rmse:857.93849                                                                                                                    \n",
      "[21]\tvalidation-rmse:859.09677                                                                                                                    \n",
      "[22]\tvalidation-rmse:860.86622                                                                                                                    \n",
      "[23]\tvalidation-rmse:859.89253                                                                                                                    \n",
      "[24]\tvalidation-rmse:861.62131                                                                                                                    \n",
      "[25]\tvalidation-rmse:862.03942                                                                                                                    \n",
      "[26]\tvalidation-rmse:862.37992                                                                                                                    \n",
      "[27]\tvalidation-rmse:863.12073                                                                                                                    \n",
      "[28]\tvalidation-rmse:863.57916                                                                                                                    \n",
      "[29]\tvalidation-rmse:864.20946                                                                                                                    \n",
      "[30]\tvalidation-rmse:865.01311                                                                                                                    \n",
      "[31]\tvalidation-rmse:865.50744                                                                                                                    \n",
      "[32]\tvalidation-rmse:864.32628                                                                                                                    \n",
      "[33]\tvalidation-rmse:864.96456                                                                                                                    \n",
      "[34]\tvalidation-rmse:865.21104                                                                                                                    \n",
      "[35]\tvalidation-rmse:863.05115                                                                                                                    \n",
      "[36]\tvalidation-rmse:863.51002                                                                                                                    \n",
      "[37]\tvalidation-rmse:863.29521                                                                                                                    \n",
      "[38]\tvalidation-rmse:863.85413                                                                                                                    \n",
      "[39]\tvalidation-rmse:863.62266                                                                                                                    \n",
      "[40]\tvalidation-rmse:864.17119                                                                                                                    \n",
      "[41]\tvalidation-rmse:864.12494                                                                                                                    \n",
      "[42]\tvalidation-rmse:864.63730                                                                                                                    \n",
      "[43]\tvalidation-rmse:863.46592                                                                                                                    \n",
      "[44]\tvalidation-rmse:863.12391                                                                                                                    \n",
      "[45]\tvalidation-rmse:863.41039                                                                                                                    \n",
      "[46]\tvalidation-rmse:863.19544                                                                                                                    \n",
      "[47]\tvalidation-rmse:863.56034                                                                                                                    \n",
      "[48]\tvalidation-rmse:862.20761                                                                                                                    \n",
      "[49]\tvalidation-rmse:862.79947                                                                                                                    \n",
      "[50]\tvalidation-rmse:862.15376                                                                                                                    \n",
      "[51]\tvalidation-rmse:862.80080                                                                                                                    \n",
      "[52]\tvalidation-rmse:862.00608                                                                                                                    \n",
      "[0]\tvalidation-rmse:774.60340                                                                                                                     \n",
      "[1]\tvalidation-rmse:788.04101                                                                                                                     \n",
      " 80%|██████████████████████████████████████████████████████████████▍               | 4/5 [01:08<00:18, 18.74s/trial, best loss: 839.0438434485823]"
     ]
    },
    {
     "name": "stderr",
     "output_type": "stream",
     "text": [
      "/home/codespace/anaconda3/lib/python3.9/site-packages/xgboost/core.py:160: UserWarning: [01:38:59] WARNING: /workspace/src/objective/regression_obj.cu:209: reg:linear is now deprecated in favor of reg:squarederror.\n",
      "  warnings.warn(smsg, UserWarning)\n",
      "\n"
     ]
    },
    {
     "name": "stdout",
     "output_type": "stream",
     "text": [
      "[2]\tvalidation-rmse:810.88703                                                                                                                     \n",
      "[3]\tvalidation-rmse:813.72903                                                                                                                     \n",
      "[4]\tvalidation-rmse:828.65685                                                                                                                     \n",
      "[5]\tvalidation-rmse:832.22377                                                                                                                     \n",
      "[6]\tvalidation-rmse:840.67812                                                                                                                     \n",
      "[7]\tvalidation-rmse:842.48316                                                                                                                     \n",
      "[8]\tvalidation-rmse:848.04651                                                                                                                     \n",
      "[9]\tvalidation-rmse:845.87650                                                                                                                     \n",
      "[10]\tvalidation-rmse:849.96235                                                                                                                    \n",
      "[11]\tvalidation-rmse:848.55011                                                                                                                    \n",
      "[12]\tvalidation-rmse:851.62825                                                                                                                    \n",
      "[13]\tvalidation-rmse:848.40148                                                                                                                    \n",
      "[14]\tvalidation-rmse:851.20895                                                                                                                    \n",
      "[15]\tvalidation-rmse:849.06475                                                                                                                    \n",
      "[16]\tvalidation-rmse:851.38700                                                                                                                    \n",
      "[17]\tvalidation-rmse:848.34962                                                                                                                    \n",
      "[18]\tvalidation-rmse:844.22194                                                                                                                    \n",
      "[19]\tvalidation-rmse:846.82881                                                                                                                    \n",
      "[20]\tvalidation-rmse:845.28469                                                                                                                    \n",
      "[21]\tvalidation-rmse:847.79872                                                                                                                    \n",
      "[22]\tvalidation-rmse:844.85557                                                                                                                    \n",
      "[23]\tvalidation-rmse:847.16114                                                                                                                    \n",
      "[24]\tvalidation-rmse:844.34203                                                                                                                    \n",
      "[25]\tvalidation-rmse:846.68829                                                                                                                    \n",
      "[26]\tvalidation-rmse:842.34811                                                                                                                    \n",
      "[27]\tvalidation-rmse:844.97194                                                                                                                    \n",
      "[28]\tvalidation-rmse:842.75326                                                                                                                    \n",
      "[29]\tvalidation-rmse:845.04041                                                                                                                    \n",
      "[30]\tvalidation-rmse:841.85390                                                                                                                    \n",
      "[31]\tvalidation-rmse:839.11910                                                                                                                    \n",
      "[32]\tvalidation-rmse:834.35714                                                                                                                    \n",
      "[33]\tvalidation-rmse:838.15093                                                                                                                    \n",
      "[34]\tvalidation-rmse:836.37564                                                                                                                    \n",
      "[35]\tvalidation-rmse:839.58299                                                                                                                    \n",
      "[36]\tvalidation-rmse:838.14326                                                                                                                    \n",
      "[37]\tvalidation-rmse:840.66858                                                                                                                    \n",
      "[38]\tvalidation-rmse:837.99438                                                                                                                    \n",
      "[39]\tvalidation-rmse:835.80451                                                                                                                    \n",
      "[40]\tvalidation-rmse:838.32935                                                                                                                    \n",
      "[41]\tvalidation-rmse:836.24474                                                                                                                    \n",
      "[42]\tvalidation-rmse:838.59817                                                                                                                    \n",
      "[43]\tvalidation-rmse:835.86156                                                                                                                    \n",
      "[44]\tvalidation-rmse:838.23910                                                                                                                    \n",
      "[45]\tvalidation-rmse:836.92748                                                                                                                    \n",
      "[46]\tvalidation-rmse:838.86364                                                                                                                    \n",
      "[47]\tvalidation-rmse:836.08604                                                                                                                    \n",
      "[48]\tvalidation-rmse:833.92944                                                                                                                    \n",
      "[49]\tvalidation-rmse:836.28290                                                                                                                    \n",
      "[50]\tvalidation-rmse:833.79251                                                                                                                    \n",
      "100%|██████████████████████████████████████████████████████████████████████████████| 5/5 [01:26<00:00, 17.40s/trial, best loss: 833.7925080614324]\n"
     ]
    }
   ],
   "source": [
    "search_space = {\n",
    "    'max_depth': scope.int(hp.quniform('max_depth', 4, 100, 1)),\n",
    "    'learning_rate': hp.loguniform('learning_rate', -3, 0),\n",
    "    'reg_alpha': hp.loguniform('reg_alpha', -5, -1),\n",
    "    'reg_lambda': hp.loguniform('reg_lambda', -6, -1),\n",
    "    'min_child_weight': hp.loguniform('min_child_weight', -1, 3),\n",
    "    'objective': 'reg:linear',\n",
    "    'seed': 42\n",
    "}\n",
    "\n",
    "best_result = fmin(\n",
    "    fn=objective,\n",
    "    space=search_space,\n",
    "    algo=tpe.suggest,\n",
    "    max_evals=5,\n",
    "    trials=Trials()\n",
    ")"
   ]
  },
  {
   "cell_type": "code",
   "execution_count": 3,
   "id": "fc4d5283",
   "metadata": {},
   "outputs": [
    {
     "ename": "NameError",
     "evalue": "name 'mlflow' is not defined",
     "output_type": "error",
     "traceback": [
      "\u001b[0;31m---------------------------------------------------------------------------\u001b[0m",
      "\u001b[0;31mNameError\u001b[0m                                 Traceback (most recent call last)",
      "Input \u001b[0;32mIn [3]\u001b[0m, in \u001b[0;36m<cell line: 1>\u001b[0;34m()\u001b[0m\n\u001b[0;32m----> 1\u001b[0m \u001b[43mmlflow\u001b[49m\u001b[38;5;241m.\u001b[39mxgboost\u001b[38;5;241m.\u001b[39mautolog(disable\u001b[38;5;241m=\u001b[39m\u001b[38;5;28;01mTrue\u001b[39;00m)\n",
      "\u001b[0;31mNameError\u001b[0m: name 'mlflow' is not defined"
     ]
    }
   ],
   "source": [
    "mlflow.xgboost.autolog(disable=True)"
   ]
  },
  {
   "cell_type": "code",
   "execution_count": 24,
   "id": "0e8cd729",
   "metadata": {
    "scrolled": false
   },
   "outputs": [
    {
     "name": "stdout",
     "output_type": "stream",
     "text": [
      "[0]\tvalidation-rmse:797.71366\n"
     ]
    },
    {
     "name": "stderr",
     "output_type": "stream",
     "text": [
      "/home/codespace/anaconda3/lib/python3.9/site-packages/xgboost/core.py:160: UserWarning: [01:39:18] WARNING: /workspace/src/objective/regression_obj.cu:209: reg:linear is now deprecated in favor of reg:squarederror.\n",
      "  warnings.warn(smsg, UserWarning)\n"
     ]
    },
    {
     "name": "stdout",
     "output_type": "stream",
     "text": [
      "[1]\tvalidation-rmse:784.21323\n",
      "[2]\tvalidation-rmse:775.85543\n",
      "[3]\tvalidation-rmse:771.54982\n",
      "[4]\tvalidation-rmse:770.36096\n",
      "[5]\tvalidation-rmse:772.50657\n",
      "[6]\tvalidation-rmse:777.88551\n",
      "[7]\tvalidation-rmse:785.97607\n",
      "[8]\tvalidation-rmse:795.85430\n",
      "[9]\tvalidation-rmse:806.80830\n"
     ]
    },
    {
     "name": "stderr",
     "output_type": "stream",
     "text": [
      "/home/codespace/anaconda3/lib/python3.9/site-packages/xgboost/core.py:160: UserWarning: [01:39:20] WARNING: /workspace/src/c_api/c_api.cc:1240: Saving into deprecated binary model format, please consider using `json` or `ubj`. Model format will default to JSON in XGBoost 2.2 if not specified.\n",
      "  warnings.warn(smsg, UserWarning)\n",
      "/home/codespace/anaconda3/lib/python3.9/site-packages/_distutils_hack/__init__.py:30: UserWarning: Setuptools is replacing distutils.\n",
      "  warnings.warn(\"Setuptools is replacing distutils.\")\n"
     ]
    }
   ],
   "source": [
    "with mlflow.start_run():\n",
    "    \n",
    "    train = xgb.DMatrix(X_train, label=y_train)\n",
    "    valid = xgb.DMatrix(X_val, label=y_val)\n",
    "\n",
    "    best_params = {\n",
    "        'learning_rate': 0.09585355369315604,\n",
    "        'max_depth': 30,\n",
    "        'min_child_weight': 1.060597050922164,\n",
    "        'objective': 'reg:linear',\n",
    "        'reg_alpha': 0.018060244040060163,\n",
    "        'reg_lambda': 0.011658731377413597,\n",
    "        'seed': 42\n",
    "    }\n",
    "\n",
    "    mlflow.log_params(best_params)\n",
    "\n",
    "    booster = xgb.train(\n",
    "        params=best_params,\n",
    "        dtrain=train,\n",
    "        num_boost_round=1000,\n",
    "        evals=[(valid, 'validation')],\n",
    "        early_stopping_rounds=5\n",
    "    )\n",
    "\n",
    "    y_pred = booster.predict(valid)\n",
    "    rmse = mean_squared_error(y_val, y_pred, squared=False)\n",
    "    mlflow.log_metric(\"rmse\", rmse)\n",
    "\n",
    "    with open(\"models/preprocessor.b\", \"wb\") as f_out:\n",
    "        pickle.dump(dv, f_out)\n",
    "    mlflow.log_artifact(\"models/preprocessor.b\", artifact_path=\"preprocessor\")\n",
    "\n",
    "    mlflow.xgboost.log_model(booster, artifact_path=\"models_mlflow\")"
   ]
  },
  {
   "cell_type": "code",
   "execution_count": null,
   "id": "c2108f4b",
   "metadata": {},
   "outputs": [],
   "source": []
  },
  {
   "cell_type": "code",
   "execution_count": 2,
   "id": "87614b82",
   "metadata": {},
   "outputs": [
    {
     "ename": "NameError",
     "evalue": "name 'mlflow' is not defined",
     "output_type": "error",
     "traceback": [
      "\u001b[0;31m---------------------------------------------------------------------------\u001b[0m",
      "\u001b[0;31mNameError\u001b[0m                                 Traceback (most recent call last)",
      "Input \u001b[0;32mIn [2]\u001b[0m, in \u001b[0;36m<cell line: 4>\u001b[0;34m()\u001b[0m\n\u001b[1;32m      1\u001b[0m \u001b[38;5;28;01mfrom\u001b[39;00m \u001b[38;5;21;01msklearn\u001b[39;00m\u001b[38;5;21;01m.\u001b[39;00m\u001b[38;5;21;01mensemble\u001b[39;00m \u001b[38;5;28;01mimport\u001b[39;00m RandomForestRegressor, GradientBoostingRegressor, ExtraTreesRegressor\n\u001b[1;32m      2\u001b[0m \u001b[38;5;28;01mfrom\u001b[39;00m \u001b[38;5;21;01msklearn\u001b[39;00m\u001b[38;5;21;01m.\u001b[39;00m\u001b[38;5;21;01msvm\u001b[39;00m \u001b[38;5;28;01mimport\u001b[39;00m LinearSVR\n\u001b[0;32m----> 4\u001b[0m \u001b[43mmlflow\u001b[49m\u001b[38;5;241m.\u001b[39msklearn\u001b[38;5;241m.\u001b[39mautolog()\n\u001b[1;32m      6\u001b[0m \u001b[38;5;28;01mfor\u001b[39;00m model_class \u001b[38;5;129;01min\u001b[39;00m (RandomForestRegressor, GradientBoostingRegressor, ExtraTreesRegressor, LinearSVR):\n\u001b[1;32m      8\u001b[0m     \u001b[38;5;28;01mwith\u001b[39;00m mlflow\u001b[38;5;241m.\u001b[39mstart_run():\n",
      "\u001b[0;31mNameError\u001b[0m: name 'mlflow' is not defined"
     ]
    }
   ],
   "source": [
    "from sklearn.ensemble import RandomForestRegressor, GradientBoostingRegressor, ExtraTreesRegressor\n",
    "from sklearn.svm import LinearSVR\n",
    "\n",
    "mlflow.sklearn.autolog()\n",
    "\n",
    "for model_class in (RandomForestRegressor, GradientBoostingRegressor, ExtraTreesRegressor, LinearSVR):\n",
    "\n",
    "    with mlflow.start_run():\n",
    "\n",
    "        mlflow.log_param(\"train-data-path\", \"./data/green_tripdata_2021-01.csv\")\n",
    "        mlflow.log_param(\"valid-data-path\", \"./data/green_tripdata_2021-02.csv\")\n",
    "        mlflow.log_artifact(\"models/preprocessor.b\", artifact_path=\"preprocessor\")\n",
    "\n",
    "        mlmodel = model_class()\n",
    "        mlmodel.fit(X_train, y_train)\n",
    "\n",
    "        y_pred = mlmodel.predict(X_val)\n",
    "        rmse = mean_squared_error(y_val, y_pred, squared=False)\n",
    "        \n",
    "        mlflow.log_metric(\"rmse\", rmse)\n",
    "        "
   ]
  },
  {
   "cell_type": "code",
   "execution_count": null,
   "id": "6f0813c7",
   "metadata": {},
   "outputs": [],
   "source": []
  },
  {
   "cell_type": "code",
   "execution_count": null,
   "id": "4c489ec5",
   "metadata": {},
   "outputs": [],
   "source": []
  },
  {
   "cell_type": "code",
   "execution_count": null,
   "id": "13fd551f",
   "metadata": {},
   "outputs": [],
   "source": []
  }
 ],
 "metadata": {
  "interpreter": {
   "hash": "0848c9d6c7d415ad6c477ff7ff8e98694d1a4aa96d0deee89244642e6b630036"
  },
  "kernelspec": {
   "display_name": "Python 3 (ipykernel)",
   "language": "python",
   "name": "python3"
  },
  "language_info": {
   "codemirror_mode": {
    "name": "ipython",
    "version": 3
   },
   "file_extension": ".py",
   "mimetype": "text/x-python",
   "name": "python",
   "nbconvert_exporter": "python",
   "pygments_lexer": "ipython3",
   "version": "3.9.12"
  }
 },
 "nbformat": 4,
 "nbformat_minor": 5
}
